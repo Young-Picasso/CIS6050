{
 "cells": [
  {
   "cell_type": "markdown",
   "metadata": {},
   "source": [
    "### Extract to Parent Folder"
   ]
  },
  {
   "cell_type": "code",
   "execution_count": 78,
   "metadata": {},
   "outputs": [],
   "source": [
    "import os\n",
    "import shutil\n",
    "\n",
    "\n",
    "\n",
    "rootPath = r\"C:\\\\Users\\\\Wil\\\\Desktop\\\\Guelph\\\\Courses\\\\CIS 6050 Neural Networks\\\\Course Project\\\\Forex Data\\\\Pairs\"\n",
    "for directory in os.listdir(rootPath):\n",
    "    folder = r\"C:\\\\Users\\\\Wil\\\\Desktop\\\\Guelph\\\\Courses\\\\CIS 6050 Neural Networks\\\\Course Project\\\\Forex Data\\\\Pairs\\\\\" + directory\n",
    "    subfolders = [f.path for f in os.scandir(folder) if f.is_dir()]\n",
    "\n",
    "    for sub in subfolders:\n",
    "        for f in os.listdir(sub):\n",
    "            src = os.path.join(sub, f)\n",
    "            dst = os.path.join(folder, f)\n",
    "            shutil.move(src, dst)"
   ]
  }
 ],
 "metadata": {
  "kernelspec": {
   "display_name": "Python 3",
   "language": "python",
   "name": "python3"
  },
  "language_info": {
   "codemirror_mode": {
    "name": "ipython",
    "version": 3
   },
   "file_extension": ".py",
   "mimetype": "text/x-python",
   "name": "python",
   "nbconvert_exporter": "python",
   "pygments_lexer": "ipython3",
   "version": "3.8.5"
  }
 },
 "nbformat": 4,
 "nbformat_minor": 4
}
